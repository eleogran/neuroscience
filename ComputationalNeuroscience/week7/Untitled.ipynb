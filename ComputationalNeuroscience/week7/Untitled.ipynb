{
 "cells": [
  {
   "cell_type": "code",
   "execution_count": 1,
   "metadata": {},
   "outputs": [],
   "source": [
    "import numpy as np\n",
    "import matplotlib.pyplot as plt\n",
    "import pickle\n",
    "with open('c10p1.pickle', 'rb') as f:\n",
    "    data = pickle.load(f)"
   ]
  },
  {
   "cell_type": "code",
   "execution_count": 5,
   "metadata": {},
   "outputs": [
    {
     "data": {
      "text/plain": [
       "{'c10p1': array([[ 1.2610673 ,  0.08785084],\n",
       "        [ 0.94870162, -0.01808508],\n",
       "        [ 0.86185491,  0.16224918],\n",
       "        [ 0.95081336, -0.4325772 ],\n",
       "        [ 1.3874176 , -0.07707664],\n",
       "        [ 1.4257554 , -0.21140316],\n",
       "        [ 1.0510257 , -0.23929085],\n",
       "        [ 0.8643021 ,  0.20747363],\n",
       "        [ 1.0557558 , -0.0440909 ],\n",
       "        [ 0.98515345, -0.45922628],\n",
       "        [ 1.2154257 ,  0.1351072 ],\n",
       "        [ 1.2889587 ,  0.22091317],\n",
       "        [ 1.3419986 , -0.12473362],\n",
       "        [ 0.66064156,  0.28451805],\n",
       "        [ 1.2035246 ,  0.80300324],\n",
       "        [ 0.87489386,  0.41143334],\n",
       "        [ 1.3307248 , -0.22338402],\n",
       "        [ 0.9996517 , -0.27229713],\n",
       "        [ 0.80970832, -0.18176388],\n",
       "        [ 1.1561395 ,  0.31659399],\n",
       "        [ 0.96945682, -0.01844687],\n",
       "        [ 1.1501202 ,  0.11455769],\n",
       "        [ 0.89451168,  0.39948466],\n",
       "        [ 0.74866926,  0.0062513 ],\n",
       "        [ 1.4240451 , -0.05110891],\n",
       "        [ 0.95394331,  0.35143469],\n",
       "        [ 0.85480809, -0.14734469],\n",
       "        [ 0.93359112, -0.09137605],\n",
       "        [ 0.93737253,  0.09293617],\n",
       "        [ 0.77042668, -0.077022  ],\n",
       "        [ 1.0234778 , -0.29261726],\n",
       "        [ 1.3611381 ,  0.20925376],\n",
       "        [ 0.65553227, -0.40112295],\n",
       "        [ 0.91105658, -0.48095323],\n",
       "        [ 1.1521568 , -0.23549257],\n",
       "        [ 0.86928331,  0.04834487],\n",
       "        [ 1.1996496 ,  0.53552165],\n",
       "        [ 0.85463939,  0.09036359],\n",
       "        [ 1.0673105 , -0.02242984],\n",
       "        [ 1.3079029 ,  0.6144213 ],\n",
       "        [ 1.1532697 ,  0.24437677],\n",
       "        [ 0.51063739,  0.05580233],\n",
       "        [ 1.1043312 ,  0.10781936],\n",
       "        [ 1.228589  , -0.04143211],\n",
       "        [ 0.63112986,  0.06989601],\n",
       "        [ 0.91630523, -0.22843712],\n",
       "        [ 0.93854954,  0.03885598],\n",
       "        [ 1.1032298 , -0.14304489],\n",
       "        [ 1.0082623 ,  0.08207604],\n",
       "        [ 1.3657724 , -0.0951204 ],\n",
       "        [ 0.16112417,  0.93146135],\n",
       "        [ 0.01274431,  0.71172188],\n",
       "        [-0.10664676,  1.3752386 ],\n",
       "        [-0.08981434,  0.62681146],\n",
       "        [-0.4441976 ,  0.68385513],\n",
       "        [-0.20725695,  0.70481888],\n",
       "        [ 0.02352401,  1.0151033 ],\n",
       "        [ 0.13890694,  0.87296951],\n",
       "        [-0.31440981,  1.0613184 ],\n",
       "        [-0.13083182,  1.3129298 ],\n",
       "        [ 0.13539111,  1.1399145 ],\n",
       "        [-0.09846609,  1.3231128 ],\n",
       "        [-0.44501379,  0.8283991 ],\n",
       "        [ 0.59267664,  0.35780148],\n",
       "        [ 0.25489893,  0.66979484],\n",
       "        [-0.20199882,  1.0335235 ],\n",
       "        [-0.42885576,  1.0911313 ],\n",
       "        [ 0.10322712,  0.59400205],\n",
       "        [-0.19723433,  1.340396  ],\n",
       "        [-0.11353115,  0.67319187],\n",
       "        [ 0.40688787,  0.98696848],\n",
       "        [-0.04679605,  0.66406917],\n",
       "        [ 0.32124189,  1.3173497 ],\n",
       "        [ 0.00512439,  0.9182194 ],\n",
       "        [ 0.28407226,  1.0560155 ],\n",
       "        [ 0.09486847,  0.93456735],\n",
       "        [-0.09592684,  1.024736  ],\n",
       "        [ 0.40200412,  1.2523789 ],\n",
       "        [ 0.2462003 ,  1.0425304 ],\n",
       "        [ 0.20865607,  1.5049251 ],\n",
       "        [-0.28119147,  1.2229519 ],\n",
       "        [ 0.11669107,  1.2967161 ],\n",
       "        [ 0.12690337,  0.91158256],\n",
       "        [ 0.22537798,  1.1935403 ],\n",
       "        [-0.09916004,  1.1949584 ],\n",
       "        [-0.16107908,  0.84973897],\n",
       "        [ 0.26860421,  0.94216399],\n",
       "        [ 0.30917642,  0.96035139],\n",
       "        [ 0.00199819,  1.1045532 ],\n",
       "        [-0.17998092,  0.60799009],\n",
       "        [ 0.40607064,  1.1784296 ],\n",
       "        [ 0.22849174,  1.3944892 ],\n",
       "        [-0.27332032,  1.3102919 ],\n",
       "        [-0.40823356,  1.1200681 ],\n",
       "        [-0.20742396,  1.3783053 ],\n",
       "        [-0.16515944,  1.048997  ],\n",
       "        [-0.44035092,  1.612193  ],\n",
       "        [ 0.30303782,  1.002318  ],\n",
       "        [ 0.01125276,  0.54663902],\n",
       "        [-0.40678274,  1.0435023 ]])}"
      ]
     },
     "execution_count": 5,
     "metadata": {},
     "output_type": "execute_result"
    }
   ],
   "source": [
    "data"
   ]
  },
  {
   "cell_type": "code",
   "execution_count": 7,
   "metadata": {},
   "outputs": [
    {
     "data": {
      "text/plain": [
       "array([[2, 3],\n",
       "       [3, 4]])"
      ]
     },
     "execution_count": 7,
     "metadata": {},
     "output_type": "execute_result"
    }
   ],
   "source": [
    "a = np.array([[2,3],[3,4]])\n",
    "a"
   ]
  },
  {
   "cell_type": "code",
   "execution_count": 8,
   "metadata": {},
   "outputs": [
    {
     "data": {
      "text/plain": [
       "array([2.5, 3.5])"
      ]
     },
     "execution_count": 8,
     "metadata": {},
     "output_type": "execute_result"
    }
   ],
   "source": [
    "np.mean(a,0)"
   ]
  },
  {
   "cell_type": "code",
   "execution_count": 12,
   "metadata": {},
   "outputs": [
    {
     "data": {
      "text/plain": [
       "array([0.51518173, 0.52049697])"
      ]
     },
     "execution_count": 12,
     "metadata": {},
     "output_type": "execute_result"
    }
   ],
   "source": [
    "np.mean(data['c10p1'],0)"
   ]
  },
  {
   "cell_type": "code",
   "execution_count": 27,
   "metadata": {},
   "outputs": [
    {
     "name": "stdout",
     "output_type": "stream",
     "text": [
      "1.2610673\n",
      "0.087850842\n",
      "0.94870162\n",
      "-0.018085079\n",
      "0.86185491\n",
      "0.16224918\n",
      "0.95081336\n",
      "-0.4325772\n",
      "1.3874176\n",
      "-0.077076637\n",
      "1.4257554\n",
      "-0.21140316\n",
      "1.0510257\n",
      "-0.23929085\n",
      "0.8643021\n",
      "0.20747363\n",
      "1.0557558\n",
      "-0.044090904\n",
      "0.98515345\n",
      "-0.45922628\n",
      "1.2154257\n",
      "0.1351072\n",
      "1.2889587\n",
      "0.22091317\n",
      "1.3419986\n",
      "-0.12473362\n",
      "0.66064156\n",
      "0.28451805\n",
      "1.2035246\n",
      "0.80300324\n",
      "0.87489386\n",
      "0.41143334\n",
      "1.3307248\n",
      "-0.22338402\n",
      "0.9996517\n",
      "-0.27229713\n",
      "0.80970832\n",
      "-0.18176388\n",
      "1.1561395\n",
      "0.31659399\n",
      "0.96945682\n",
      "-0.018446872\n",
      "1.1501202\n",
      "0.11455769\n",
      "0.89451168\n",
      "0.39948466\n",
      "0.74866926\n",
      "0.006251298\n",
      "1.4240451\n",
      "-0.051108909\n",
      "0.95394331\n",
      "0.35143469\n",
      "0.85480809\n",
      "-0.14734469\n",
      "0.93359112\n",
      "-0.091376048\n",
      "0.93737253\n",
      "0.092936169\n",
      "0.77042668\n",
      "-0.077022002\n",
      "1.0234778\n",
      "-0.29261726\n",
      "1.3611381\n",
      "0.20925376\n",
      "0.65553227\n",
      "-0.40112295\n",
      "0.91105658\n",
      "-0.48095323\n",
      "1.1521568\n",
      "-0.23549257\n",
      "0.86928331\n",
      "0.048344866\n",
      "1.1996496\n",
      "0.53552165\n",
      "0.85463939\n",
      "0.090363593\n",
      "1.0673105\n",
      "-0.022429837\n",
      "1.3079029\n",
      "0.6144213\n",
      "1.1532697\n",
      "0.24437677\n",
      "0.51063739\n",
      "0.055802326\n",
      "1.1043312\n",
      "0.10781936\n",
      "1.228589\n",
      "-0.041432114\n",
      "0.63112986\n",
      "0.069896014\n",
      "0.91630523\n",
      "-0.22843712\n",
      "0.93854954\n",
      "0.038855984\n",
      "1.1032298\n",
      "-0.14304489\n",
      "1.0082623\n",
      "0.082076036\n",
      "1.3657724\n",
      "-0.095120396\n",
      "0.16112417\n",
      "0.93146135\n",
      "0.012744314\n",
      "0.71172188\n",
      "-0.10664676\n",
      "1.3752386\n",
      "-0.089814343\n",
      "0.62681146\n",
      "-0.4441976\n",
      "0.68385513\n",
      "-0.20725695\n",
      "0.70481888\n",
      "0.023524013\n",
      "1.0151033\n",
      "0.13890694\n",
      "0.87296951\n",
      "-0.31440981\n",
      "1.0613184\n",
      "-0.13083182\n",
      "1.3129298\n",
      "0.13539111\n",
      "1.1399145\n",
      "-0.098466091\n",
      "1.3231128\n",
      "-0.44501379\n",
      "0.8283991\n",
      "0.59267664\n",
      "0.35780148\n",
      "0.25489893\n",
      "0.66979484\n",
      "-0.20199882\n",
      "1.0335235\n",
      "-0.42885576\n",
      "1.0911313\n",
      "0.10322712\n",
      "0.59400205\n",
      "-0.19723433\n",
      "1.340396\n",
      "-0.11353115\n",
      "0.67319187\n",
      "0.40688787\n",
      "0.98696848\n",
      "-0.046796045\n",
      "0.66406917\n",
      "0.32124189\n",
      "1.3173497\n",
      "0.0051243938\n",
      "0.9182194\n",
      "0.28407226\n",
      "1.0560155\n",
      "0.094868475\n",
      "0.93456735\n",
      "-0.095926837\n",
      "1.024736\n",
      "0.40200412\n",
      "1.2523789\n",
      "0.2462003\n",
      "1.0425304\n",
      "0.20865607\n",
      "1.5049251\n",
      "-0.28119147\n",
      "1.2229519\n",
      "0.11669107\n",
      "1.2967161\n",
      "0.12690337\n",
      "0.91158256\n",
      "0.22537798\n",
      "1.1935403\n",
      "-0.09916004\n",
      "1.1949584\n",
      "-0.16107908\n",
      "0.84973897\n",
      "0.26860421\n",
      "0.94216399\n",
      "0.30917642\n",
      "0.96035139\n",
      "0.0019981889\n",
      "1.1045532\n",
      "-0.17998092\n",
      "0.60799009\n",
      "0.40607064\n",
      "1.1784296\n",
      "0.22849174\n",
      "1.3944892\n",
      "-0.27332032\n",
      "1.3102919\n",
      "-0.40823356\n",
      "1.1200681\n",
      "-0.20742396\n",
      "1.3783053\n",
      "-0.16515944\n",
      "1.048997\n",
      "-0.44035092\n",
      "1.612193\n",
      "0.30303782\n",
      "1.002318\n",
      "0.011252761\n",
      "0.54663902\n",
      "-0.40678274\n",
      "1.0435023\n"
     ]
    },
    {
     "data": {
      "image/png": "[encoded data removed]",
      "text/plain": [
       "<Figure size 432x288 with 1 Axes>"
      ]
     },
     "metadata": {
      "needs_background": "light"
     },
     "output_type": "display_data"
    }
   ],
   "source": [
    "for i in range(0,len(data['c10p1'])):\n",
    "    print(data['c10p1'][i][0])\n",
    "    print(data['c10p1'][i][1])\n",
    "    \n",
    "    plt.scatter(data['c10p1'][i][0],data['c10p1'][i][1])"
   ]
  },
  {
   "cell_type": "code",
   "execution_count": 50,
   "metadata": {},
   "outputs": [
    {
     "data": {
      "image/png": "[encoded data removed]",
      "text/plain": [
       "<Figure size 432x288 with 1 Axes>"
      ]
     },
     "metadata": {
      "needs_background": "light"
     },
     "output_type": "display_data"
    }
   ],
   "source": [
    "newdata = np.zeros((100,2))\n",
    "\n",
    "for i in range(0,len(data['c10p1'])):\n",
    "    newdata[i][0] = data['c10p1'][i][0] - np.mean(data['c10p1'],0)[0]\n",
    "    newdata[i][1] = data['c10p1'][i][1] - np.mean(data['c10p1'],0)[1]\n",
    "    \n",
    "    plt.scatter(newdata[i][0], newdata[i][1])\n",
    "\n",
    "    "
   ]
  },
  {
   "cell_type": "code",
   "execution_count": 38,
   "metadata": {},
   "outputs": [],
   "source": [
    "Cor = np.zeros((2,2))\n",
    "Cor = np.dot(np.transpose(newdata),newdata)/100"
   ]
  },
  {
   "cell_type": "code",
   "execution_count": 39,
   "metadata": {},
   "outputs": [
    {
     "data": {
      "text/plain": [
       "array([[ 0.32640954, -0.25904608],\n",
       "       [-0.25904608,  0.32166565]])"
      ]
     },
     "execution_count": 39,
     "metadata": {},
     "output_type": "execute_result"
    }
   ],
   "source": [
    "Cor"
   ]
  },
  {
   "cell_type": "code",
   "execution_count": 43,
   "metadata": {},
   "outputs": [
    {
     "data": {
      "text/plain": [
       "(array([0.58309453, 0.06498065]), array([[ 0.71033657,  0.70386217],\n",
       "        [-0.70386217,  0.71033657]]))"
      ]
     },
     "execution_count": 43,
     "metadata": {},
     "output_type": "execute_result"
    }
   ],
   "source": [
    "from numpy import linalg as LA\n",
    "eigvals, eigvecs = LA.eig(Cor)\n",
    "eigvals, eigvecs"
   ]
  },
  {
   "cell_type": "code",
   "execution_count": 78,
   "metadata": {},
   "outputs": [
    {
     "name": "stdout",
     "output_type": "stream",
     "text": [
      "[[1. 1.]]\n",
      "[[-1.00165647 -1.00782324]]\n",
      "[[-1.00312967 -1.01077436]]\n",
      "[[-1.00501588 -1.01010466]]\n",
      "[[-1.00019722 -1.01370379]]\n",
      "[[-0.9995981  -1.00810545]]\n",
      "[[-0.99838029 -1.00878977]]\n",
      "[[-1.00084585 -1.01162545]]\n",
      "[[-1.00531682 -1.00976619]]\n",
      "[[-1.00218618 -1.01020558]]\n",
      "[[-0.99976572 -1.01365138]]\n",
      "[[-1.0023133  -1.00780881]]\n",
      "[[-1.00239492 -1.00668173]]\n",
      "[[-0.99958528 -1.00876366]]\n",
      "[[-1.00730578 -1.01065241]]\n",
      "[[-1.0070989  -1.00314827]]\n",
      "[[-1.00667718 -1.00824284]]\n",
      "[[-0.998971   -1.00954376]]\n",
      "[[-1.00097845 -1.01222151]]\n",
      "[[-1.00296492 -1.01291535]]\n",
      "[[-1.00401185 -1.00693694]]\n",
      "[[-1.0029797  -1.01063084]]\n",
      "[[-1.00263255 -1.00841444]]\n",
      "[[-1.00645372 -1.00818963]]\n",
      "[[-1.00472187 -1.01200944]]\n",
      "[[-0.99952069 -1.00766318]]\n",
      "[[-1.00569335 -1.00811263]]\n",
      "[[-1.00288682 -1.01235342]]\n",
      "[[-1.00272114 -1.01140133]]\n",
      "[[-1.00399159 -1.01006548]]\n",
      "[[-1.00398119 -1.01244782]]\n",
      "[[-1.00066618 -1.01219814]]\n",
      "[[-1.00180014 -1.00625651]]\n",
      "[[-1.0025161  -1.01555873]]\n",
      "[[-1.00013913 -1.01432725]]\n",
      "[[-1.00015421 -1.01088664]]\n",
      "[[-1.00416139 -1.01086148]]\n",
      "[[-1.00524373 -1.00507556]]\n",
      "[[-1.00456116 -1.01066608]]\n",
      "[[-1.00225657 -1.00997038]]\n",
      "[[-1.00503011 -1.00375316]]\n",
      "[[-1.00352392 -1.00747012]]\n",
      "[[-1.00676147 -1.01333288]]\n",
      "[[-1.00291037 -1.0087846 ]]\n",
      "[[-1.0009772  -1.00897018]]\n",
      "[[-1.00600477 -1.01238467]]\n",
      "[[-1.00187921 -1.0124966 ]]\n",
      "[[-1.00360257 -1.01044135]]\n",
      "[[-1.00115246 -1.01057433]]\n",
      "[[-1.00341159 -1.00964366]]\n",
      "[[-0.99962485 -1.00838597]]\n",
      "[[-1.01540762 -1.00957285]]\n",
      "[[-1.01491496 -1.01217813]]\n",
      "[[-1.02043328 -1.00830527]]\n",
      "[[-1.01504582 -1.01350315]]\n",
      "[[-1.01796464 -1.01559232]]\n",
      "[[-1.01642912 -1.01377567]]\n",
      "[[-1.01697377 -1.00994722]]\n",
      "[[-1.01515374 -1.01014471]]\n",
      "[[-1.01969953 -1.01199753]]\n",
      "[[-1.02016651 -1.0089181 ]]\n",
      "[[-1.01705764 -1.00827325]]\n",
      "[[-1.02000827 -1.00861796]]\n",
      "[[-1.01898783 -1.01457131]]\n",
      "[[-1.00830437 -1.01061023]]\n",
      "[[-1.01289974 -1.01077151]]\n",
      "[[-1.0187054  -1.01140375]]\n",
      "[[-1.02072232 -1.0125913 ]]\n",
      "[[-1.01344364 -1.01237746]]\n",
      "[[-1.02083151 -1.00919038]]\n",
      "[[-1.01554074 -1.01334062]]\n",
      "[[-1.01405257 -1.00744872]]\n",
      "[[-1.01500248 -1.0129357 ]]\n",
      "[[-1.01698637 -1.00570473]]\n",
      "[[-1.01642254 -1.01076493]]\n",
      "[[-1.01541097 -1.00782271]]\n",
      "[[-1.01590012 -1.01001713]]\n",
      "[[-1.01789008 -1.01071957]]\n",
      "[[-1.01595538 -1.00559779]]\n",
      "[[-1.01558507 -1.00818506]]\n",
      "[[-1.01910638 -1.00516477]]\n",
      "[[-1.02060124 -1.01061558]]\n",
      "[[-1.01829414 -1.00729106]]\n",
      "[[-1.01551079 -1.00995492]]\n",
      "[[-1.01679588 -1.00725895]]\n",
      "[[-1.01911117 -1.00953317]]\n",
      "[[-1.01712114 -1.01242122]]\n",
      "[[-1.01471948 -1.00874031]]\n",
      "[[-1.0145593  -1.00832555]]\n",
      "[[-1.01775628 -1.00946334]]\n",
      "[[-1.01555383 -1.01427149]]\n",
      "[[-1.01540599 -1.00609446]]\n",
      "[[-1.01818816 -1.00580962]]\n",
      "[[-1.02116009 -1.00993977]]\n",
      "[[-1.02077951 -1.0122406 ]]\n",
      "[[-1.02117072 -1.00899282]]\n",
      "[[-1.01855262 -1.01103454]]\n",
      "[[-1.02447153 -1.00897092]]\n",
      "[[-1.01489829 -1.00807065]]\n",
      "[[-1.0137636  -1.01336127]]\n",
      "[[-1.02023029 -1.01277426]]\n"
     ]
    }
   ],
   "source": [
    "w0 = np.ones([1,2])\n",
    "print(w0)\n",
    "\n",
    "for i in range(0,100):\n",
    "    u = np.array([newdata[i][0],newdata[i][1]])\n",
    "    w1 = 0.01*(np.dot(u,eigvecs)-w0)\n",
    "    dw = w1-w0\n",
    "    print(dw)"
   ]
  },
  {
   "cell_type": "code",
   "execution_count": 57,
   "metadata": {},
   "outputs": [
    {
     "data": {
      "text/plain": [
       "array([ 0.74588557, -0.43264613])"
      ]
     },
     "execution_count": 57,
     "metadata": {},
     "output_type": "execute_result"
    }
   ],
   "source": []
  },
  {
   "cell_type": "code",
   "execution_count": 56,
   "metadata": {},
   "outputs": [
    {
     "data": {
      "text/plain": [
       "array([ 0.74588557, -0.43264613])"
      ]
     },
     "execution_count": 56,
     "metadata": {},
     "output_type": "execute_result"
    }
   ],
   "source": [
    "u = np.array([newdata[0][0], newdata[0][1]])\n",
    "u"
   ]
  },
  {
   "cell_type": "markdown",
   "metadata": {},
   "source": [
    "Q = np.array([[0.15, 0.1],[0.1, 0.12]])\n",
    "Q"
   ]
  },
  {
   "cell_type": "code",
   "execution_count": 82,
   "metadata": {},
   "outputs": [
    {
     "name": "stdout",
     "output_type": "stream",
     "text": [
      "[[0.15 0.1 ]\n",
      " [0.1  0.12]]\n"
     ]
    },
    {
     "data": {
      "text/plain": [
       "(array([0.23611874, 0.03388126]), array([[ 0.75774021, -0.65255634],\n",
       "        [ 0.65255634,  0.75774021]]))"
      ]
     },
     "execution_count": 82,
     "metadata": {},
     "output_type": "execute_result"
    }
   ],
   "source": [
    "Q = np.array([[0.15, 0.1],[0.1, 0.12]])\n",
    "print(Q)\n",
    "eigvalsQ, eigvecsQ = LA.eig(Q)\n",
    "eigvalsQ, eigvecsQ"
   ]
  },
  {
   "cell_type": "code",
   "execution_count": 83,
   "metadata": {},
   "outputs": [
    {
     "data": {
      "text/plain": [
       "1.0000000027250397"
      ]
     },
     "execution_count": 83,
     "metadata": {},
     "output_type": "execute_result"
    }
   ],
   "source": []
  },
  {
   "cell_type": "code",
   "execution_count": 84,
   "metadata": {},
   "outputs": [
    {
     "data": {
      "text/plain": [
       "0.0484053975"
      ]
     },
     "execution_count": 84,
     "metadata": {},
     "output_type": "execute_result"
    }
   ],
   "source": [
    "0.75774021*0.15-0.65255634*0.1"
   ]
  },
  {
   "cell_type": "code",
   "execution_count": 85,
   "metadata": {},
   "outputs": [
    {
     "data": {
      "text/plain": [
       "0.025673193067464604"
      ]
     },
     "execution_count": 85,
     "metadata": {},
     "output_type": "execute_result"
    }
   ],
   "source": [
    "0.03388126*0.75774021"
   ]
  },
  {
   "cell_type": "code",
   "execution_count": 86,
   "metadata": {},
   "outputs": [
    {
     "data": {
      "text/plain": [
       "-0.002532739799999975"
      ]
     },
     "execution_count": 86,
     "metadata": {},
     "output_type": "execute_result"
    }
   ],
   "source": [
    "0.75774021*0.1-0.65255634*0.12"
   ]
  },
  {
   "cell_type": "code",
   "execution_count": 87,
   "metadata": {},
   "outputs": [
    {
     "data": {
      "text/plain": [
       "-0.022109431020188402"
      ]
     },
     "execution_count": 87,
     "metadata": {},
     "output_type": "execute_result"
    }
   ],
   "source": [
    "-0.65255634*0.03388126"
   ]
  },
  {
   "cell_type": "code",
   "execution_count": 93,
   "metadata": {},
   "outputs": [
    {
     "name": "stdout",
     "output_type": "stream",
     "text": [
      "[[0.2  0.1 ]\n",
      " [0.1  0.15]]\n"
     ]
    },
    {
     "data": {
      "text/plain": [
       "(array([0.27807764, 0.07192236]), array([[ 0.78820544, -0.61541221],\n",
       "        [ 0.61541221,  0.78820544]]))"
      ]
     },
     "execution_count": 93,
     "metadata": {},
     "output_type": "execute_result"
    }
   ],
   "source": [
    "Q = np.array([[0.2, 0.1],[0.1, 0.15]])\n",
    "print(Q)\n",
    "eigvalsQ, eigvecsQ = LA.eig(Q)\n",
    "eigvalsQ, eigvecsQ"
   ]
  },
  {
   "cell_type": "code",
   "execution_count": 94,
   "metadata": {},
   "outputs": [
    {
     "data": {
      "text/plain": [
       "1.2807929801754958"
      ]
     },
     "execution_count": 94,
     "metadata": {},
     "output_type": "execute_result"
    }
   ],
   "source": [
    "1.5764/1.2308\n"
   ]
  },
  {
   "cell_type": "code",
   "execution_count": 95,
   "metadata": {},
   "outputs": [
    {
     "data": {
      "text/plain": [
       "0.7807663029687896"
      ]
     },
     "execution_count": 95,
     "metadata": {},
     "output_type": "execute_result"
    }
   ],
   "source": [
    "1/1.2807929801754958"
   ]
  },
  {
   "cell_type": "code",
   "execution_count": null,
   "metadata": {},
   "outputs": [],
   "source": []
  }
 ],
 "metadata": {
  "kernelspec": {
   "display_name": "Python 3",
   "language": "python",
   "name": "python3"
  },
  "language_info": {
   "codemirror_mode": {
    "name": "ipython",
    "version": 3
   },
   "file_extension": ".py",
   "mimetype": "text/x-python",
   "name": "python",
   "nbconvert_exporter": "python",
   "pygments_lexer": "ipython3",
   "version": "3.7.0"
  }
 },
 "nbformat": 4,
 "nbformat_minor": 2
}
